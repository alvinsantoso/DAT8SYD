{
 "cells": [
  {
   "cell_type": "code",
   "execution_count": 1,
   "metadata": {},
   "outputs": [
    {
     "name": "stderr",
     "output_type": "stream",
     "text": [
      "/anaconda/lib/python3.6/site-packages/statsmodels/compat/pandas.py:56: FutureWarning: The pandas.core.datetools module is deprecated and will be removed in a future version. Please use the pandas.tseries module instead.\n",
      "  from pandas.core import datetools\n"
     ]
    }
   ],
   "source": [
    "import datetime  \n",
    "import numpy as np  \n",
    "import pandas as pd\n",
    "import numpy.random as random\n",
    "import statsmodels.api as sm\n",
    "import statsmodels.tsa as tsa\n",
    "import statsmodels.formula.api as smf\n",
    "import pandas as pd\n",
    "import numpy as np"
   ]
  },
  {
   "cell_type": "code",
   "execution_count": 67,
   "metadata": {
    "collapsed": true
   },
   "outputs": [],
   "source": [
    "import datetime  \n",
    "import numpy as np  \n",
    "import pandas as pd\n",
    "import numpy.random as random\n",
    "import statsmodels.api as sm\n",
    "import statsmodels.tsa as tsa\n",
    "import statsmodels.formula.api as smf\n",
    "import pandas as pd\n",
    "import numpy as np\n",
    "\n",
    "# Create dataset\n",
    "\n",
    "def create_dataset():\n",
    " \n",
    "    data = pd.DataFrame()\n",
    "    \n",
    "    np.random.seed(0); np.random.seed(1) # Random seed needs to reset here for reproducibility\n",
    "\n",
    "    data ['Performance_metrics'] = [100,200,300,500,750,900,1000,1300,1450,1500,1600,1400]\n",
    "\n",
    "    data ['TV'] = [10,20,30,30,40,40,45,50,60,55,60,62]\n",
    "        \n",
    "    data ['Influencers'] = [10,10,10,10,20,30,45,40,30,35,35,37]\n",
    "\n",
    "    data ['Digital_Branding'] = random.choice(range(1, 10), data.shape[0])\n",
    "\n",
    "    data ['Radio'] = random.choice(range(1, 11), data.shape[0])\n",
    "    \n",
    "    data ['OOH']=random.choice(range(1, 2), data.shape[0])\n",
    "    \n",
    "    return data\n",
    "\n",
    "#create dataset and print first and last rows of data\n",
    "\n",
    "data = create_dataset()  "
   ]
  },
  {
   "cell_type": "code",
   "execution_count": 68,
   "metadata": {
    "collapsed": true
   },
   "outputs": [],
   "source": [
    "### Incude adstock\n",
    "\n",
    "ar_coeff = .5\n",
    "\n",
    "TV_adstock = tsa.filters.filtertools.recursive_filter(data ['TV'], ar_coeff)\n",
    "\n",
    "Influencers_adstock = tsa.filters.filtertools.recursive_filter(data ['Influencers'], ar_coeff)\n",
    "\n",
    "DigitalBranding_adstock = tsa.filters.filtertools.recursive_filter(data['Digital_Branding'], ar_coeff)\n",
    "\n",
    "Radio_adstock = tsa.filters.filtertools.recursive_filter(data ['Radio'], ar_coeff)\n",
    "\n",
    "OOH_adstock = tsa.filters.filtertools.recursive_filter(data ['OOH'], ar_coeff)"
   ]
  },
  {
   "cell_type": "code",
   "execution_count": 81,
   "metadata": {},
   "outputs": [
    {
     "data": {
      "text/html": [
       "<div>\n",
       "<style>\n",
       "    .dataframe thead tr:only-child th {\n",
       "        text-align: right;\n",
       "    }\n",
       "\n",
       "    .dataframe thead th {\n",
       "        text-align: left;\n",
       "    }\n",
       "\n",
       "    .dataframe tbody tr th {\n",
       "        vertical-align: top;\n",
       "    }\n",
       "</style>\n",
       "<table border=\"1\" class=\"dataframe\">\n",
       "  <thead>\n",
       "    <tr style=\"text-align: right;\">\n",
       "      <th></th>\n",
       "      <th>TV</th>\n",
       "      <th>TV</th>\n",
       "      <th>Influencers</th>\n",
       "      <th>Influencers</th>\n",
       "      <th>Digital_Branding</th>\n",
       "      <th>Digital_Branding</th>\n",
       "      <th>Radio</th>\n",
       "      <th>Radio</th>\n",
       "      <th>OOH</th>\n",
       "      <th>OOH</th>\n",
       "    </tr>\n",
       "  </thead>\n",
       "  <tbody>\n",
       "    <tr>\n",
       "      <th>0</th>\n",
       "      <td>10</td>\n",
       "      <td>10.000000</td>\n",
       "      <td>10</td>\n",
       "      <td>10.000000</td>\n",
       "      <td>6</td>\n",
       "      <td>6.000000</td>\n",
       "      <td>5</td>\n",
       "      <td>5.000000</td>\n",
       "      <td>1</td>\n",
       "      <td>1.000000</td>\n",
       "    </tr>\n",
       "    <tr>\n",
       "      <th>1</th>\n",
       "      <td>20</td>\n",
       "      <td>25.000000</td>\n",
       "      <td>10</td>\n",
       "      <td>15.000000</td>\n",
       "      <td>9</td>\n",
       "      <td>12.000000</td>\n",
       "      <td>3</td>\n",
       "      <td>5.500000</td>\n",
       "      <td>1</td>\n",
       "      <td>1.500000</td>\n",
       "    </tr>\n",
       "    <tr>\n",
       "      <th>2</th>\n",
       "      <td>30</td>\n",
       "      <td>42.500000</td>\n",
       "      <td>10</td>\n",
       "      <td>17.500000</td>\n",
       "      <td>6</td>\n",
       "      <td>12.000000</td>\n",
       "      <td>5</td>\n",
       "      <td>7.750000</td>\n",
       "      <td>1</td>\n",
       "      <td>1.750000</td>\n",
       "    </tr>\n",
       "    <tr>\n",
       "      <th>3</th>\n",
       "      <td>30</td>\n",
       "      <td>51.250000</td>\n",
       "      <td>10</td>\n",
       "      <td>18.750000</td>\n",
       "      <td>1</td>\n",
       "      <td>7.000000</td>\n",
       "      <td>8</td>\n",
       "      <td>11.875000</td>\n",
       "      <td>1</td>\n",
       "      <td>1.875000</td>\n",
       "    </tr>\n",
       "    <tr>\n",
       "      <th>4</th>\n",
       "      <td>40</td>\n",
       "      <td>65.625000</td>\n",
       "      <td>20</td>\n",
       "      <td>29.375000</td>\n",
       "      <td>1</td>\n",
       "      <td>4.500000</td>\n",
       "      <td>8</td>\n",
       "      <td>13.937500</td>\n",
       "      <td>1</td>\n",
       "      <td>1.937500</td>\n",
       "    </tr>\n",
       "    <tr>\n",
       "      <th>5</th>\n",
       "      <td>40</td>\n",
       "      <td>72.812500</td>\n",
       "      <td>30</td>\n",
       "      <td>44.687500</td>\n",
       "      <td>2</td>\n",
       "      <td>4.250000</td>\n",
       "      <td>10</td>\n",
       "      <td>16.968750</td>\n",
       "      <td>1</td>\n",
       "      <td>1.968750</td>\n",
       "    </tr>\n",
       "    <tr>\n",
       "      <th>6</th>\n",
       "      <td>45</td>\n",
       "      <td>81.406250</td>\n",
       "      <td>45</td>\n",
       "      <td>67.343750</td>\n",
       "      <td>8</td>\n",
       "      <td>10.125000</td>\n",
       "      <td>2</td>\n",
       "      <td>10.484375</td>\n",
       "      <td>1</td>\n",
       "      <td>1.984375</td>\n",
       "    </tr>\n",
       "    <tr>\n",
       "      <th>7</th>\n",
       "      <td>50</td>\n",
       "      <td>90.703125</td>\n",
       "      <td>40</td>\n",
       "      <td>73.671875</td>\n",
       "      <td>7</td>\n",
       "      <td>12.062500</td>\n",
       "      <td>8</td>\n",
       "      <td>13.242188</td>\n",
       "      <td>1</td>\n",
       "      <td>1.992188</td>\n",
       "    </tr>\n",
       "    <tr>\n",
       "      <th>8</th>\n",
       "      <td>60</td>\n",
       "      <td>105.351562</td>\n",
       "      <td>30</td>\n",
       "      <td>66.835938</td>\n",
       "      <td>3</td>\n",
       "      <td>9.031250</td>\n",
       "      <td>1</td>\n",
       "      <td>7.621094</td>\n",
       "      <td>1</td>\n",
       "      <td>1.996094</td>\n",
       "    </tr>\n",
       "    <tr>\n",
       "      <th>9</th>\n",
       "      <td>55</td>\n",
       "      <td>107.675781</td>\n",
       "      <td>35</td>\n",
       "      <td>68.417969</td>\n",
       "      <td>5</td>\n",
       "      <td>9.515625</td>\n",
       "      <td>7</td>\n",
       "      <td>10.810547</td>\n",
       "      <td>1</td>\n",
       "      <td>1.998047</td>\n",
       "    </tr>\n",
       "    <tr>\n",
       "      <th>10</th>\n",
       "      <td>60</td>\n",
       "      <td>113.837891</td>\n",
       "      <td>35</td>\n",
       "      <td>69.208984</td>\n",
       "      <td>6</td>\n",
       "      <td>10.757812</td>\n",
       "      <td>10</td>\n",
       "      <td>15.405273</td>\n",
       "      <td>1</td>\n",
       "      <td>1.999023</td>\n",
       "    </tr>\n",
       "    <tr>\n",
       "      <th>11</th>\n",
       "      <td>62</td>\n",
       "      <td>118.918945</td>\n",
       "      <td>37</td>\n",
       "      <td>71.604492</td>\n",
       "      <td>3</td>\n",
       "      <td>8.378906</td>\n",
       "      <td>10</td>\n",
       "      <td>17.702637</td>\n",
       "      <td>1</td>\n",
       "      <td>1.999512</td>\n",
       "    </tr>\n",
       "  </tbody>\n",
       "</table>\n",
       "</div>"
      ],
      "text/plain": [
       "    TV          TV  Influencers  Influencers  Digital_Branding  \\\n",
       "0   10   10.000000           10    10.000000                 6   \n",
       "1   20   25.000000           10    15.000000                 9   \n",
       "2   30   42.500000           10    17.500000                 6   \n",
       "3   30   51.250000           10    18.750000                 1   \n",
       "4   40   65.625000           20    29.375000                 1   \n",
       "5   40   72.812500           30    44.687500                 2   \n",
       "6   45   81.406250           45    67.343750                 8   \n",
       "7   50   90.703125           40    73.671875                 7   \n",
       "8   60  105.351562           30    66.835938                 3   \n",
       "9   55  107.675781           35    68.417969                 5   \n",
       "10  60  113.837891           35    69.208984                 6   \n",
       "11  62  118.918945           37    71.604492                 3   \n",
       "\n",
       "    Digital_Branding  Radio      Radio  OOH       OOH  \n",
       "0           6.000000      5   5.000000    1  1.000000  \n",
       "1          12.000000      3   5.500000    1  1.500000  \n",
       "2          12.000000      5   7.750000    1  1.750000  \n",
       "3           7.000000      8  11.875000    1  1.875000  \n",
       "4           4.500000      8  13.937500    1  1.937500  \n",
       "5           4.250000     10  16.968750    1  1.968750  \n",
       "6          10.125000      2  10.484375    1  1.984375  \n",
       "7          12.062500      8  13.242188    1  1.992188  \n",
       "8           9.031250      1   7.621094    1  1.996094  \n",
       "9           9.515625      7  10.810547    1  1.998047  \n",
       "10         10.757812     10  15.405273    1  1.999023  \n",
       "11          8.378906     10  17.702637    1  1.999512  "
      ]
     },
     "execution_count": 81,
     "metadata": {},
     "output_type": "execute_result"
    }
   ],
   "source": [
    "# Combine all the pandas series together\n",
    "\n",
    "df_ad= pd.concat([data ['TV'],TV_adstock,data ['Influencers'],Influencers_adstock,data ['Digital_Branding'],DigitalBranding_adstock, \n",
    "       data ['Radio'],Radio_adstock,data ['OOH'],OOH_adstock],axis=1)\n",
    "df_ad"
   ]
  },
  {
   "cell_type": "code",
   "execution_count": 70,
   "metadata": {
    "collapsed": true
   },
   "outputs": [],
   "source": [
    "Performance_metrics=data ['Performance_metrics'] "
   ]
  },
  {
   "cell_type": "code",
   "execution_count": 71,
   "metadata": {
    "collapsed": true
   },
   "outputs": [],
   "source": [
    "modelfit2 = smf.ols(formula='Performance_metrics ~ TV_adstock + Influencers_adstock + DigitalBranding_adstock + Radio_adstock + OOH_adstock',data=df_ad).fit()\n"
   ]
  },
  {
   "cell_type": "code",
   "execution_count": 72,
   "metadata": {},
   "outputs": [
    {
     "name": "stderr",
     "output_type": "stream",
     "text": [
      "/anaconda/lib/python3.6/site-packages/scipy/stats/stats.py:1334: UserWarning: kurtosistest only valid for n>=20 ... continuing anyway, n=12\n",
      "  \"anyway, n=%i\" % int(n))\n"
     ]
    },
    {
     "data": {
      "text/html": [
       "<table class=\"simpletable\">\n",
       "<caption>OLS Regression Results</caption>\n",
       "<tr>\n",
       "  <th>Dep. Variable:</th>    <td>Performance_metrics</td> <th>  R-squared:         </th> <td>   0.979</td>\n",
       "</tr>\n",
       "<tr>\n",
       "  <th>Model:</th>                    <td>OLS</td>         <th>  Adj. R-squared:    </th> <td>   0.962</td>\n",
       "</tr>\n",
       "<tr>\n",
       "  <th>Method:</th>              <td>Least Squares</td>    <th>  F-statistic:       </th> <td>   56.04</td>\n",
       "</tr>\n",
       "<tr>\n",
       "  <th>Date:</th>              <td>Wed, 12 Jul 2017</td>   <th>  Prob (F-statistic):</th> <td>5.90e-05</td>\n",
       "</tr>\n",
       "<tr>\n",
       "  <th>Time:</th>                  <td>09:42:39</td>       <th>  Log-Likelihood:    </th> <td> -68.878</td>\n",
       "</tr>\n",
       "<tr>\n",
       "  <th>No. Observations:</th>       <td>    12</td>        <th>  AIC:               </th> <td>   149.8</td>\n",
       "</tr>\n",
       "<tr>\n",
       "  <th>Df Residuals:</th>           <td>     6</td>        <th>  BIC:               </th> <td>   152.7</td>\n",
       "</tr>\n",
       "<tr>\n",
       "  <th>Df Model:</th>               <td>     5</td>        <th>                     </th>     <td> </td>   \n",
       "</tr>\n",
       "<tr>\n",
       "  <th>Covariance Type:</th>       <td>nonrobust</td>      <th>                     </th>     <td> </td>   \n",
       "</tr>\n",
       "</table>\n",
       "<table class=\"simpletable\">\n",
       "<tr>\n",
       "             <td></td>                <th>coef</th>     <th>std err</th>      <th>t</th>      <th>P>|t|</th>  <th>[0.025</th>    <th>0.975]</th>  \n",
       "</tr>\n",
       "<tr>\n",
       "  <th>Intercept</th>               <td>  147.3859</td> <td>  281.788</td> <td>    0.523</td> <td> 0.620</td> <td> -542.124</td> <td>  836.896</td>\n",
       "</tr>\n",
       "<tr>\n",
       "  <th>TV_adstock</th>              <td>   12.8597</td> <td>    3.424</td> <td>    3.756</td> <td> 0.009</td> <td>    4.482</td> <td>   21.237</td>\n",
       "</tr>\n",
       "<tr>\n",
       "  <th>Influencers_adstock</th>     <td>    5.5300</td> <td>    3.874</td> <td>    1.428</td> <td> 0.203</td> <td>   -3.949</td> <td>   15.009</td>\n",
       "</tr>\n",
       "<tr>\n",
       "  <th>DigitalBranding_adstock</th> <td>   -9.5959</td> <td>   14.576</td> <td>   -0.658</td> <td> 0.535</td> <td>  -45.261</td> <td>   26.069</td>\n",
       "</tr>\n",
       "<tr>\n",
       "  <th>Radio_adstock</th>           <td>   -8.9281</td> <td>   12.820</td> <td>   -0.696</td> <td> 0.512</td> <td>  -40.297</td> <td>   22.440</td>\n",
       "</tr>\n",
       "<tr>\n",
       "  <th>OOH_adstock</th>             <td> -135.2183</td> <td>  215.171</td> <td>   -0.628</td> <td> 0.553</td> <td> -661.722</td> <td>  391.285</td>\n",
       "</tr>\n",
       "</table>\n",
       "<table class=\"simpletable\">\n",
       "<tr>\n",
       "  <th>Omnibus:</th>       <td> 2.189</td> <th>  Durbin-Watson:     </th> <td>   2.371</td>\n",
       "</tr>\n",
       "<tr>\n",
       "  <th>Prob(Omnibus):</th> <td> 0.335</td> <th>  Jarque-Bera (JB):  </th> <td>   1.033</td>\n",
       "</tr>\n",
       "<tr>\n",
       "  <th>Skew:</th>          <td>-0.717</td> <th>  Prob(JB):          </th> <td>   0.597</td>\n",
       "</tr>\n",
       "<tr>\n",
       "  <th>Kurtosis:</th>      <td> 2.902</td> <th>  Cond. No.          </th> <td>1.07e+03</td>\n",
       "</tr>\n",
       "</table>"
      ],
      "text/plain": [
       "<class 'statsmodels.iolib.summary.Summary'>\n",
       "\"\"\"\n",
       "                             OLS Regression Results                            \n",
       "===============================================================================\n",
       "Dep. Variable:     Performance_metrics   R-squared:                       0.979\n",
       "Model:                             OLS   Adj. R-squared:                  0.962\n",
       "Method:                  Least Squares   F-statistic:                     56.04\n",
       "Date:                 Wed, 12 Jul 2017   Prob (F-statistic):           5.90e-05\n",
       "Time:                         09:42:39   Log-Likelihood:                -68.878\n",
       "No. Observations:                   12   AIC:                             149.8\n",
       "Df Residuals:                        6   BIC:                             152.7\n",
       "Df Model:                            5                                         \n",
       "Covariance Type:             nonrobust                                         \n",
       "===========================================================================================\n",
       "                              coef    std err          t      P>|t|      [0.025      0.975]\n",
       "-------------------------------------------------------------------------------------------\n",
       "Intercept                 147.3859    281.788      0.523      0.620    -542.124     836.896\n",
       "TV_adstock                 12.8597      3.424      3.756      0.009       4.482      21.237\n",
       "Influencers_adstock         5.5300      3.874      1.428      0.203      -3.949      15.009\n",
       "DigitalBranding_adstock    -9.5959     14.576     -0.658      0.535     -45.261      26.069\n",
       "Radio_adstock              -8.9281     12.820     -0.696      0.512     -40.297      22.440\n",
       "OOH_adstock              -135.2183    215.171     -0.628      0.553    -661.722     391.285\n",
       "==============================================================================\n",
       "Omnibus:                        2.189   Durbin-Watson:                   2.371\n",
       "Prob(Omnibus):                  0.335   Jarque-Bera (JB):                1.033\n",
       "Skew:                          -0.717   Prob(JB):                        0.597\n",
       "Kurtosis:                       2.902   Cond. No.                     1.07e+03\n",
       "==============================================================================\n",
       "\n",
       "Warnings:\n",
       "[1] Standard Errors assume that the covariance matrix of the errors is correctly specified.\n",
       "[2] The condition number is large, 1.07e+03. This might indicate that there are\n",
       "strong multicollinearity or other numerical problems.\n",
       "\"\"\""
      ]
     },
     "execution_count": 72,
     "metadata": {},
     "output_type": "execute_result"
    }
   ],
   "source": [
    "modelfit2.summary()"
   ]
  },
  {
   "cell_type": "code",
   "execution_count": null,
   "metadata": {
    "collapsed": true
   },
   "outputs": [],
   "source": []
  },
  {
   "cell_type": "markdown",
   "metadata": {},
   "source": [
    "# Summary"
   ]
  },
  {
   "cell_type": "markdown",
   "metadata": {},
   "source": [
    "All units are gross rating point (GRP) if not specified.  GRP is the percent of the target group that watched the commercial in that specific timeframe\n",
    "\n",
    "There are some assumptions about the data set here:\n",
    "\n",
    "(1)  a factor analysis has been done to group similar advertising routes into 4 major categories similar to the business case\n",
    "\n",
    "(2)  The sales here are incremental sales only,  not including base sales \n",
    "\n",
    "Before the actual marketing mix modeling, we have to take “advertising adstock effect” into account, which “describes the prolonged or lagged effect of advertising on consumer purchase behavior”. To simplify the situation, we assume all the advertising adstock coefficients are equal to 0.5 here. However, in the real world study there's quite a bit of time on approaching more accurate advertising adstock coefficients.\n",
    "\n",
    "![alt text](example.png \"Mix Modelling Results\")\n",
    "\n",
    "Suggestions:\n",
    "\n",
    "(1) The results here suggest that the TV ads are the most promising one with the highest return of investment (ROI), highest effectiveness altought it is the most expensive compare to the other channels.We should definitely consider invest more in online ads based on this result.\n",
    "\n",
    "(2) Influencers also has a positive ROI and moderate contribution.  Further investments in Influencers ads next year might be an option based on the result here.\n",
    "\n",
    "(3) Digital branding, OOH and radio count for 26.3% of advertisement spending, but only contribute 10% of the sales.  Alternatively, we are losing money by investing in these channel. Therefore, it is highly recommended that the investment in these channel should be minimized in the next year and relocate the resources into a mix TV and Influencers. This will save up to 26% of the advertisement costs and will potentially increase our sales up to 41.1%\n",
    "\n",
    "(4) Consider split 50/50 for Above the line and Digital ( including but not exclusive to social media, searching engine, email, display website, programmatic and key words)"
   ]
  },
  {
   "cell_type": "markdown",
   "metadata": {},
   "source": [
    "# Performance metrics prediction model"
   ]
  },
  {
   "cell_type": "code",
   "execution_count": 89,
   "metadata": {
    "collapsed": true
   },
   "outputs": [],
   "source": [
    "#split test and train dataset\n",
    "#Train-Test split\n",
    "from sklearn.model_selection import train_test_split\n",
    "label = data.pop('Performance_metrics')\n",
    "label=np.log(label)\n",
    "data_train, data_test, label_train, label_test = train_test_split(data, label, test_size = 0.2, random_state = 500)"
   ]
  },
  {
   "cell_type": "code",
   "execution_count": 90,
   "metadata": {},
   "outputs": [
    {
     "name": "stderr",
     "output_type": "stream",
     "text": [
      "/anaconda/lib/python3.6/site-packages/sklearn/cross_validation.py:44: DeprecationWarning: This module was deprecated in version 0.18 in favor of the model_selection module into which all the refactored classes and functions are moved. Also note that the interface of the new CV iterators are different from that of this module. This module will be removed in 0.20.\n",
      "  \"This module will be removed in 0.20.\", DeprecationWarning)\n"
     ]
    }
   ],
   "source": [
    "#using xgboost as regression model to improve the mdoel accuracy through parameteres tunning\n",
    "import xgboost as xgb\n",
    "from sklearn.model_selection import KFold, train_test_split, GridSearchCV"
   ]
  },
  {
   "cell_type": "code",
   "execution_count": 91,
   "metadata": {
    "collapsed": true
   },
   "outputs": [],
   "source": [
    "xgb_params = {\n",
    "    'eta': 0.05,\n",
    "    'max_depth': 5,\n",
    "    'subsample': 0.7,\n",
    "    'colsample_bytree': 0.7,\n",
    "    'objective': 'reg:linear',\n",
    "    'eval_metric': 'rmse',\n",
    "    'silent': 1\n",
    "}"
   ]
  },
  {
   "cell_type": "code",
   "execution_count": 92,
   "metadata": {
    "collapsed": true
   },
   "outputs": [],
   "source": [
    "dtrain = xgb.DMatrix(data_train, label_train)"
   ]
  },
  {
   "cell_type": "code",
   "execution_count": 93,
   "metadata": {},
   "outputs": [
    {
     "name": "stdout",
     "output_type": "stream",
     "text": [
      "[0]\ttrain-rmse:5.93033\ttest-rmse:5.92828\n",
      "[50]\ttrain-rmse:0.896621\ttest-rmse:0.958878\n",
      "[100]\ttrain-rmse:0.19948\ttest-rmse:0.375871\n",
      "[150]\ttrain-rmse:0.0571693\ttest-rmse:0.359125\n"
     ]
    }
   ],
   "source": [
    "cv_output = xgb.cv(xgb_params, dtrain, num_boost_round=1000, early_stopping_rounds=20,\n",
    "    verbose_eval=50, show_stdv=False)"
   ]
  },
  {
   "cell_type": "code",
   "execution_count": 94,
   "metadata": {
    "collapsed": true
   },
   "outputs": [],
   "source": [
    "num_boost_rounds = len(cv_output)\n",
    "model = xgb.train(dict(xgb_params, silent=0), dtrain, num_boost_round= num_boost_rounds)"
   ]
  },
  {
   "cell_type": "code",
   "execution_count": 97,
   "metadata": {
    "collapsed": true
   },
   "outputs": [],
   "source": [
    "dtest=xgb.DMatrix(data_test)"
   ]
  },
  {
   "cell_type": "code",
   "execution_count": 98,
   "metadata": {
    "collapsed": true
   },
   "outputs": [],
   "source": [
    "y_predict = np.exp2(model.predict(dtest))"
   ]
  },
  {
   "cell_type": "code",
   "execution_count": 99,
   "metadata": {
    "collapsed": true
   },
   "outputs": [],
   "source": [
    "Actual_metrics=np.exp2(label_test)"
   ]
  },
  {
   "cell_type": "code",
   "execution_count": 100,
   "metadata": {
    "collapsed": true
   },
   "outputs": [],
   "source": [
    "out = pd.DataFrame({'Actual_metrics': Actual_metrics, 'predict_metrics': y_predict,'Diff' :(Actual_metrics-y_predict)})"
   ]
  },
  {
   "cell_type": "code",
   "execution_count": 103,
   "metadata": {},
   "outputs": [
    {
     "data": {
      "text/html": [
       "<div>\n",
       "<style>\n",
       "    .dataframe thead tr:only-child th {\n",
       "        text-align: right;\n",
       "    }\n",
       "\n",
       "    .dataframe thead th {\n",
       "        text-align: left;\n",
       "    }\n",
       "\n",
       "    .dataframe tbody tr th {\n",
       "        vertical-align: top;\n",
       "    }\n",
       "</style>\n",
       "<table border=\"1\" class=\"dataframe\">\n",
       "  <thead>\n",
       "    <tr style=\"text-align: right;\">\n",
       "      <th></th>\n",
       "      <th>Actual_metrics</th>\n",
       "      <th>predict_metrics</th>\n",
       "      <th>Diff</th>\n",
       "    </tr>\n",
       "  </thead>\n",
       "  <tbody>\n",
       "    <tr>\n",
       "      <th>11</th>\n",
       "      <td>151.610674</td>\n",
       "      <td>151.919250</td>\n",
       "      <td>-0.308577</td>\n",
       "    </tr>\n",
       "    <tr>\n",
       "      <th>2</th>\n",
       "      <td>52.120625</td>\n",
       "      <td>58.112358</td>\n",
       "      <td>-5.991733</td>\n",
       "    </tr>\n",
       "    <tr>\n",
       "      <th>3</th>\n",
       "      <td>74.264874</td>\n",
       "      <td>57.986130</td>\n",
       "      <td>16.278744</td>\n",
       "    </tr>\n",
       "  </tbody>\n",
       "</table>\n",
       "</div>"
      ],
      "text/plain": [
       "    Actual_metrics  predict_metrics       Diff\n",
       "11      151.610674       151.919250  -0.308577\n",
       "2        52.120625        58.112358  -5.991733\n",
       "3        74.264874        57.986130  16.278744"
      ]
     },
     "execution_count": 103,
     "metadata": {},
     "output_type": "execute_result"
    }
   ],
   "source": [
    "#predicted dataset with actual value\n",
    "out[['Actual_metrics','predict_metrics','Diff']]"
   ]
  },
  {
   "cell_type": "code",
   "execution_count": null,
   "metadata": {
    "collapsed": true
   },
   "outputs": [],
   "source": []
  }
 ],
 "metadata": {
  "kernelspec": {
   "display_name": "Python 3",
   "language": "python",
   "name": "python3"
  },
  "language_info": {
   "codemirror_mode": {
    "name": "ipython",
    "version": 3
   },
   "file_extension": ".py",
   "mimetype": "text/x-python",
   "name": "python",
   "nbconvert_exporter": "python",
   "pygments_lexer": "ipython3",
   "version": "3.6.1"
  }
 },
 "nbformat": 4,
 "nbformat_minor": 2
}
