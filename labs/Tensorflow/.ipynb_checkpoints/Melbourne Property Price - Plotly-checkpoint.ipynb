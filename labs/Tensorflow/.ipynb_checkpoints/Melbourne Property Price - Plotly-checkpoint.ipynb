{
 "cells": [
  {
   "cell_type": "code",
   "execution_count": 24,
   "metadata": {
    "collapsed": true
   },
   "outputs": [],
   "source": [
    "import pandas as pd\n",
    "from IPython.display import display\n",
    "import plotly\n",
    "import plotly.plotly as py\n",
    "from plotly.graph_objs import *\n",
    "plotly.tools.set_credentials_file(username='nivla', api_key='Tph1zr3csPWViJwc69Ia')\n",
    "import plotly.graph_objs as go\n",
    "from plotly import tools\n",
    "import seaborn as sns\n",
    "%matplotlib inline\n",
    "import numpy as np"
   ]
  },
  {
   "cell_type": "code",
   "execution_count": 25,
   "metadata": {
    "collapsed": true
   },
   "outputs": [],
   "source": [
    "#bring in data source\n",
    "data = pd.read_csv('Melbourne_housing_extra_data.csv')\n",
    "data.Date = pd.to_datetime(data.Date)\n",
    "#remove NULL or 0 price\n",
    "data = data[data['Price']>0]"
   ]
  },
  {
   "cell_type": "code",
   "execution_count": 26,
   "metadata": {},
   "outputs": [
    {
     "data": {
      "text/html": [
       "<div>\n",
       "<style>\n",
       "    .dataframe thead tr:only-child th {\n",
       "        text-align: right;\n",
       "    }\n",
       "\n",
       "    .dataframe thead th {\n",
       "        text-align: left;\n",
       "    }\n",
       "\n",
       "    .dataframe tbody tr th {\n",
       "        vertical-align: top;\n",
       "    }\n",
       "</style>\n",
       "<table border=\"1\" class=\"dataframe\">\n",
       "  <thead>\n",
       "    <tr style=\"text-align: right;\">\n",
       "      <th></th>\n",
       "      <th>Suburb</th>\n",
       "      <th>Address</th>\n",
       "      <th>Rooms</th>\n",
       "      <th>Type</th>\n",
       "      <th>Price</th>\n",
       "      <th>Method</th>\n",
       "      <th>SellerG</th>\n",
       "      <th>Date</th>\n",
       "      <th>Distance</th>\n",
       "      <th>Postcode</th>\n",
       "      <th>...</th>\n",
       "      <th>Bathroom</th>\n",
       "      <th>Car</th>\n",
       "      <th>Landsize</th>\n",
       "      <th>BuildingArea</th>\n",
       "      <th>YearBuilt</th>\n",
       "      <th>CouncilArea</th>\n",
       "      <th>Lattitude</th>\n",
       "      <th>Longtitude</th>\n",
       "      <th>Regionname</th>\n",
       "      <th>Propertycount</th>\n",
       "    </tr>\n",
       "  </thead>\n",
       "  <tbody>\n",
       "    <tr>\n",
       "      <th>1</th>\n",
       "      <td>Abbotsford</td>\n",
       "      <td>85 Turner St</td>\n",
       "      <td>2</td>\n",
       "      <td>h</td>\n",
       "      <td>1480000.0</td>\n",
       "      <td>S</td>\n",
       "      <td>Biggin</td>\n",
       "      <td>2016-03-12</td>\n",
       "      <td>2.5</td>\n",
       "      <td>3067</td>\n",
       "      <td>...</td>\n",
       "      <td>1.0</td>\n",
       "      <td>1.0</td>\n",
       "      <td>202.0</td>\n",
       "      <td>NaN</td>\n",
       "      <td>NaN</td>\n",
       "      <td>Yarra</td>\n",
       "      <td>-37.7996</td>\n",
       "      <td>144.9984</td>\n",
       "      <td>Northern Metropolitan</td>\n",
       "      <td>4019</td>\n",
       "    </tr>\n",
       "    <tr>\n",
       "      <th>2</th>\n",
       "      <td>Abbotsford</td>\n",
       "      <td>25 Bloomburg St</td>\n",
       "      <td>2</td>\n",
       "      <td>h</td>\n",
       "      <td>1035000.0</td>\n",
       "      <td>S</td>\n",
       "      <td>Biggin</td>\n",
       "      <td>2016-04-02</td>\n",
       "      <td>2.5</td>\n",
       "      <td>3067</td>\n",
       "      <td>...</td>\n",
       "      <td>1.0</td>\n",
       "      <td>0.0</td>\n",
       "      <td>156.0</td>\n",
       "      <td>79.0</td>\n",
       "      <td>1900.0</td>\n",
       "      <td>Yarra</td>\n",
       "      <td>-37.8079</td>\n",
       "      <td>144.9934</td>\n",
       "      <td>Northern Metropolitan</td>\n",
       "      <td>4019</td>\n",
       "    </tr>\n",
       "    <tr>\n",
       "      <th>4</th>\n",
       "      <td>Abbotsford</td>\n",
       "      <td>5 Charles St</td>\n",
       "      <td>3</td>\n",
       "      <td>h</td>\n",
       "      <td>1465000.0</td>\n",
       "      <td>SP</td>\n",
       "      <td>Biggin</td>\n",
       "      <td>2017-04-03</td>\n",
       "      <td>2.5</td>\n",
       "      <td>3067</td>\n",
       "      <td>...</td>\n",
       "      <td>2.0</td>\n",
       "      <td>0.0</td>\n",
       "      <td>134.0</td>\n",
       "      <td>150.0</td>\n",
       "      <td>1900.0</td>\n",
       "      <td>Yarra</td>\n",
       "      <td>-37.8093</td>\n",
       "      <td>144.9944</td>\n",
       "      <td>Northern Metropolitan</td>\n",
       "      <td>4019</td>\n",
       "    </tr>\n",
       "    <tr>\n",
       "      <th>5</th>\n",
       "      <td>Abbotsford</td>\n",
       "      <td>40 Federation La</td>\n",
       "      <td>3</td>\n",
       "      <td>h</td>\n",
       "      <td>850000.0</td>\n",
       "      <td>PI</td>\n",
       "      <td>Biggin</td>\n",
       "      <td>2017-04-03</td>\n",
       "      <td>2.5</td>\n",
       "      <td>3067</td>\n",
       "      <td>...</td>\n",
       "      <td>2.0</td>\n",
       "      <td>1.0</td>\n",
       "      <td>94.0</td>\n",
       "      <td>NaN</td>\n",
       "      <td>NaN</td>\n",
       "      <td>Yarra</td>\n",
       "      <td>-37.7969</td>\n",
       "      <td>144.9969</td>\n",
       "      <td>Northern Metropolitan</td>\n",
       "      <td>4019</td>\n",
       "    </tr>\n",
       "    <tr>\n",
       "      <th>6</th>\n",
       "      <td>Abbotsford</td>\n",
       "      <td>55a Park St</td>\n",
       "      <td>4</td>\n",
       "      <td>h</td>\n",
       "      <td>1600000.0</td>\n",
       "      <td>VB</td>\n",
       "      <td>Nelson</td>\n",
       "      <td>2016-04-06</td>\n",
       "      <td>2.5</td>\n",
       "      <td>3067</td>\n",
       "      <td>...</td>\n",
       "      <td>1.0</td>\n",
       "      <td>2.0</td>\n",
       "      <td>120.0</td>\n",
       "      <td>142.0</td>\n",
       "      <td>2014.0</td>\n",
       "      <td>Yarra</td>\n",
       "      <td>-37.8072</td>\n",
       "      <td>144.9941</td>\n",
       "      <td>Northern Metropolitan</td>\n",
       "      <td>4019</td>\n",
       "    </tr>\n",
       "  </tbody>\n",
       "</table>\n",
       "<p>5 rows × 21 columns</p>\n",
       "</div>"
      ],
      "text/plain": [
       "       Suburb           Address  Rooms Type      Price Method SellerG  \\\n",
       "1  Abbotsford      85 Turner St      2    h  1480000.0      S  Biggin   \n",
       "2  Abbotsford   25 Bloomburg St      2    h  1035000.0      S  Biggin   \n",
       "4  Abbotsford      5 Charles St      3    h  1465000.0     SP  Biggin   \n",
       "5  Abbotsford  40 Federation La      3    h   850000.0     PI  Biggin   \n",
       "6  Abbotsford       55a Park St      4    h  1600000.0     VB  Nelson   \n",
       "\n",
       "        Date  Distance  Postcode      ...       Bathroom  Car  Landsize  \\\n",
       "1 2016-03-12       2.5      3067      ...            1.0  1.0     202.0   \n",
       "2 2016-04-02       2.5      3067      ...            1.0  0.0     156.0   \n",
       "4 2017-04-03       2.5      3067      ...            2.0  0.0     134.0   \n",
       "5 2017-04-03       2.5      3067      ...            2.0  1.0      94.0   \n",
       "6 2016-04-06       2.5      3067      ...            1.0  2.0     120.0   \n",
       "\n",
       "   BuildingArea  YearBuilt  CouncilArea Lattitude  Longtitude  \\\n",
       "1           NaN        NaN        Yarra  -37.7996    144.9984   \n",
       "2          79.0     1900.0        Yarra  -37.8079    144.9934   \n",
       "4         150.0     1900.0        Yarra  -37.8093    144.9944   \n",
       "5           NaN        NaN        Yarra  -37.7969    144.9969   \n",
       "6         142.0     2014.0        Yarra  -37.8072    144.9941   \n",
       "\n",
       "              Regionname Propertycount  \n",
       "1  Northern Metropolitan          4019  \n",
       "2  Northern Metropolitan          4019  \n",
       "4  Northern Metropolitan          4019  \n",
       "5  Northern Metropolitan          4019  \n",
       "6  Northern Metropolitan          4019  \n",
       "\n",
       "[5 rows x 21 columns]"
      ]
     },
     "execution_count": 26,
     "metadata": {},
     "output_type": "execute_result"
    }
   ],
   "source": [
    "data.head()"
   ]
  },
  {
   "cell_type": "code",
   "execution_count": 13,
   "metadata": {},
   "outputs": [
    {
     "data": {
      "text/html": [
       "<div>\n",
       "<style>\n",
       "    .dataframe thead tr:only-child th {\n",
       "        text-align: right;\n",
       "    }\n",
       "\n",
       "    .dataframe thead th {\n",
       "        text-align: left;\n",
       "    }\n",
       "\n",
       "    .dataframe tbody tr th {\n",
       "        vertical-align: top;\n",
       "    }\n",
       "</style>\n",
       "<table border=\"1\" class=\"dataframe\">\n",
       "  <thead>\n",
       "    <tr style=\"text-align: right;\">\n",
       "      <th></th>\n",
       "      <th>Rooms</th>\n",
       "      <th>Price</th>\n",
       "      <th>Distance</th>\n",
       "      <th>Postcode</th>\n",
       "      <th>Bedroom2</th>\n",
       "      <th>Bathroom</th>\n",
       "      <th>Car</th>\n",
       "      <th>Landsize</th>\n",
       "      <th>BuildingArea</th>\n",
       "      <th>YearBuilt</th>\n",
       "      <th>Lattitude</th>\n",
       "      <th>Longtitude</th>\n",
       "      <th>Propertycount</th>\n",
       "    </tr>\n",
       "  </thead>\n",
       "  <tbody>\n",
       "    <tr>\n",
       "      <th>count</th>\n",
       "      <td>13525.000000</td>\n",
       "      <td>1.352500e+04</td>\n",
       "      <td>13525.000000</td>\n",
       "      <td>13525.000000</td>\n",
       "      <td>10597.000000</td>\n",
       "      <td>10597.000000</td>\n",
       "      <td>10597.000000</td>\n",
       "      <td>10582.000000</td>\n",
       "      <td>5612.000000</td>\n",
       "      <td>6475.000000</td>\n",
       "      <td>10684.000000</td>\n",
       "      <td>10684.000000</td>\n",
       "      <td>13525.000000</td>\n",
       "    </tr>\n",
       "    <tr>\n",
       "      <th>mean</th>\n",
       "      <td>2.888355</td>\n",
       "      <td>1.071537e+06</td>\n",
       "      <td>9.462307</td>\n",
       "      <td>3100.326433</td>\n",
       "      <td>2.841087</td>\n",
       "      <td>1.506936</td>\n",
       "      <td>1.552987</td>\n",
       "      <td>496.014742</td>\n",
       "      <td>144.104074</td>\n",
       "      <td>1962.866564</td>\n",
       "      <td>-37.809443</td>\n",
       "      <td>144.990973</td>\n",
       "      <td>7498.712976</td>\n",
       "    </tr>\n",
       "    <tr>\n",
       "      <th>std</th>\n",
       "      <td>0.962834</td>\n",
       "      <td>6.553000e+05</td>\n",
       "      <td>4.878650</td>\n",
       "      <td>76.965336</td>\n",
       "      <td>0.967595</td>\n",
       "      <td>0.688356</td>\n",
       "      <td>0.943551</td>\n",
       "      <td>1482.753318</td>\n",
       "      <td>138.418479</td>\n",
       "      <td>38.170383</td>\n",
       "      <td>0.069248</td>\n",
       "      <td>0.087822</td>\n",
       "      <td>4509.140213</td>\n",
       "    </tr>\n",
       "    <tr>\n",
       "      <th>min</th>\n",
       "      <td>1.000000</td>\n",
       "      <td>8.500000e+04</td>\n",
       "      <td>0.000000</td>\n",
       "      <td>3000.000000</td>\n",
       "      <td>0.000000</td>\n",
       "      <td>0.000000</td>\n",
       "      <td>0.000000</td>\n",
       "      <td>0.000000</td>\n",
       "      <td>0.000000</td>\n",
       "      <td>1196.000000</td>\n",
       "      <td>-38.182550</td>\n",
       "      <td>144.551060</td>\n",
       "      <td>389.000000</td>\n",
       "    </tr>\n",
       "    <tr>\n",
       "      <th>25%</th>\n",
       "      <td>2.000000</td>\n",
       "      <td>6.400000e+05</td>\n",
       "      <td>6.100000</td>\n",
       "      <td>3044.000000</td>\n",
       "      <td>2.000000</td>\n",
       "      <td>1.000000</td>\n",
       "      <td>1.000000</td>\n",
       "      <td>152.000000</td>\n",
       "      <td>90.000000</td>\n",
       "      <td>1940.000000</td>\n",
       "      <td>-37.854300</td>\n",
       "      <td>144.932400</td>\n",
       "      <td>4217.000000</td>\n",
       "    </tr>\n",
       "    <tr>\n",
       "      <th>50%</th>\n",
       "      <td>3.000000</td>\n",
       "      <td>8.910000e+05</td>\n",
       "      <td>9.200000</td>\n",
       "      <td>3083.000000</td>\n",
       "      <td>3.000000</td>\n",
       "      <td>1.000000</td>\n",
       "      <td>1.000000</td>\n",
       "      <td>374.000000</td>\n",
       "      <td>123.000000</td>\n",
       "      <td>1970.000000</td>\n",
       "      <td>-37.802980</td>\n",
       "      <td>144.997000</td>\n",
       "      <td>6567.000000</td>\n",
       "    </tr>\n",
       "    <tr>\n",
       "      <th>75%</th>\n",
       "      <td>3.000000</td>\n",
       "      <td>1.321000e+06</td>\n",
       "      <td>12.100000</td>\n",
       "      <td>3146.000000</td>\n",
       "      <td>3.000000</td>\n",
       "      <td>2.000000</td>\n",
       "      <td>2.000000</td>\n",
       "      <td>633.000000</td>\n",
       "      <td>170.000000</td>\n",
       "      <td>1998.500000</td>\n",
       "      <td>-37.760100</td>\n",
       "      <td>145.049985</td>\n",
       "      <td>10331.000000</td>\n",
       "    </tr>\n",
       "    <tr>\n",
       "      <th>max</th>\n",
       "      <td>12.000000</td>\n",
       "      <td>8.000000e+06</td>\n",
       "      <td>47.400000</td>\n",
       "      <td>3978.000000</td>\n",
       "      <td>20.000000</td>\n",
       "      <td>8.000000</td>\n",
       "      <td>10.000000</td>\n",
       "      <td>76000.000000</td>\n",
       "      <td>6791.000000</td>\n",
       "      <td>2018.000000</td>\n",
       "      <td>-37.453100</td>\n",
       "      <td>145.526350</td>\n",
       "      <td>21650.000000</td>\n",
       "    </tr>\n",
       "  </tbody>\n",
       "</table>\n",
       "</div>"
      ],
      "text/plain": [
       "              Rooms         Price      Distance      Postcode      Bedroom2  \\\n",
       "count  13525.000000  1.352500e+04  13525.000000  13525.000000  10597.000000   \n",
       "mean       2.888355  1.071537e+06      9.462307   3100.326433      2.841087   \n",
       "std        0.962834  6.553000e+05      4.878650     76.965336      0.967595   \n",
       "min        1.000000  8.500000e+04      0.000000   3000.000000      0.000000   \n",
       "25%        2.000000  6.400000e+05      6.100000   3044.000000      2.000000   \n",
       "50%        3.000000  8.910000e+05      9.200000   3083.000000      3.000000   \n",
       "75%        3.000000  1.321000e+06     12.100000   3146.000000      3.000000   \n",
       "max       12.000000  8.000000e+06     47.400000   3978.000000     20.000000   \n",
       "\n",
       "           Bathroom           Car      Landsize  BuildingArea    YearBuilt  \\\n",
       "count  10597.000000  10597.000000  10582.000000   5612.000000  6475.000000   \n",
       "mean       1.506936      1.552987    496.014742    144.104074  1962.866564   \n",
       "std        0.688356      0.943551   1482.753318    138.418479    38.170383   \n",
       "min        0.000000      0.000000      0.000000      0.000000  1196.000000   \n",
       "25%        1.000000      1.000000    152.000000     90.000000  1940.000000   \n",
       "50%        1.000000      1.000000    374.000000    123.000000  1970.000000   \n",
       "75%        2.000000      2.000000    633.000000    170.000000  1998.500000   \n",
       "max        8.000000     10.000000  76000.000000   6791.000000  2018.000000   \n",
       "\n",
       "          Lattitude    Longtitude  Propertycount  \n",
       "count  10684.000000  10684.000000   13525.000000  \n",
       "mean     -37.809443    144.990973    7498.712976  \n",
       "std        0.069248      0.087822    4509.140213  \n",
       "min      -38.182550    144.551060     389.000000  \n",
       "25%      -37.854300    144.932400    4217.000000  \n",
       "50%      -37.802980    144.997000    6567.000000  \n",
       "75%      -37.760100    145.049985   10331.000000  \n",
       "max      -37.453100    145.526350   21650.000000  "
      ]
     },
     "metadata": {},
     "output_type": "display_data"
    },
    {
     "name": "stdout",
     "output_type": "stream",
     "text": [
      "\r\n",
      "Count of null entries\n"
     ]
    },
    {
     "data": {
      "text/plain": [
       "Suburb              0\n",
       "Address             0\n",
       "Rooms               0\n",
       "Type                0\n",
       "Price               0\n",
       "Method              0\n",
       "SellerG             0\n",
       "Date                0\n",
       "Distance            0\n",
       "Postcode            0\n",
       "Bedroom2         2928\n",
       "Bathroom         2928\n",
       "Car              2928\n",
       "Landsize         2943\n",
       "BuildingArea     7913\n",
       "YearBuilt        7050\n",
       "CouncilArea      2944\n",
       "Lattitude        2841\n",
       "Longtitude       2841\n",
       "Regionname          0\n",
       "Propertycount       0\n",
       "dtype: int64"
      ]
     },
     "metadata": {},
     "output_type": "display_data"
    }
   ],
   "source": [
    "#data exploratory\n",
    "display(data.describe())\n",
    "print(\"\\r\")\n",
    "print(\"Count of null entries\")\n",
    "display(data.isnull().sum())"
   ]
  },
  {
   "cell_type": "code",
   "execution_count": 30,
   "metadata": {},
   "outputs": [
    {
     "data": {
      "text/html": [
       "<iframe id=\"igraph\" scrolling=\"no\" style=\"border:none;\" seamless=\"seamless\" src=\"https://plot.ly/~nivla/58.embed\" height=\"525px\" width=\"100%\"></iframe>"
      ],
      "text/plain": [
       "<plotly.tools.PlotlyDisplay object>"
      ]
     },
     "execution_count": 30,
     "metadata": {},
     "output_type": "execute_result"
    }
   ],
   "source": [
    "#housing price frequency\n",
    "pl1 = go.Histogram(x = data.Price)\n",
    "layout1 = go.Layout(title='Histogram of Melbourne Housing Prices',\n",
    "                   xaxis=dict(title='Price',titlefont=dict(family='Courier New, monospace',size=16, color='#7f7f7f')),\n",
    "                   yaxis=dict(title='Frequency',titlefont=dict(family='Courier New, monospace',size=16,color='#7f7f7f'))\n",
    "                 )\n",
    "dt1 = [pl1]\n",
    "fig1 = go.Figure(data=dt1, layout=layout1)\n",
    "py.iplot(fig1, sharing='public')"
   ]
  },
  {
   "cell_type": "code",
   "execution_count": 29,
   "metadata": {},
   "outputs": [
    {
     "data": {
      "text/html": [
       "<iframe id=\"igraph\" scrolling=\"no\" style=\"border:none;\" seamless=\"seamless\" src=\"https://plot.ly/~nivla/56.embed\" height=\"525px\" width=\"100%\"></iframe>"
      ],
      "text/plain": [
       "<plotly.tools.PlotlyDisplay object>"
      ]
     },
     "execution_count": 29,
     "metadata": {},
     "output_type": "execute_result"
    }
   ],
   "source": [
    "#finding sale commission for top 10 Agent, in this instance we will assume 1.5% for each sale\n",
    "data['commission'] = data.Price * 0.015\n",
    "dt2 = data.groupby(\"SellerG\").commission.sum().sort_values(ascending=False)\n",
    "dt2 = dt2.nlargest(10) #top ten agent using Pandas nlargest function\n",
    "pl2 = go.Bar(x=dt2.index, y=dt2.values)\n",
    "layout2 = go.Layout(title='Top 10 Total Commission by Agent',\n",
    "     xaxis=dict(title='Real-Estate Agent',titlefont=dict(family='Courier New, monospace',size=16, color='#7f7f7f')),\n",
    "     yaxis=dict(title='Total Commission (1.5%)',titlefont=dict(family='Courier New, monospace',size=16,color='#7f7f7f')))\n",
    "dt2 = [pl2]\n",
    "fig2 = go.Figure(data=dt2, layout=layout2)\n",
    "py.iplot(fig2, sharing='public')"
   ]
  },
  {
   "cell_type": "code",
   "execution_count": 31,
   "metadata": {},
   "outputs": [
    {
     "name": "stdout",
     "output_type": "stream",
     "text": [
      "Percentage commission from top 10 agent: 63.329264088148399\n"
     ]
    }
   ],
   "source": [
    "#finding total % commission for top 10 agent\n",
    "comm = data.groupby(\"SellerG\").commission.sum().nlargest(10).sum()\n",
    "totalcomm = data.commission.sum()\n",
    "print (\"Percentage commission from top 10 agent: %.15f\" %((comm/totalcomm)*100))"
   ]
  },
  {
   "cell_type": "code",
   "execution_count": 32,
   "metadata": {},
   "outputs": [
    {
     "data": {
      "text/plain": [
       "h    8681\n",
       "u    3354\n",
       "t    1490\n",
       "Name: Type, dtype: int64"
      ]
     },
     "execution_count": 32,
     "metadata": {},
     "output_type": "execute_result"
    }
   ],
   "source": [
    "data.Type.value_counts()"
   ]
  },
  {
   "cell_type": "code",
   "execution_count": 33,
   "metadata": {},
   "outputs": [
    {
     "data": {
      "text/html": [
       "<iframe id=\"igraph\" scrolling=\"no\" style=\"border:none;\" seamless=\"seamless\" src=\"https://plot.ly/~nivla/60.embed\" height=\"525px\" width=\"100%\"></iframe>"
      ],
      "text/plain": [
       "<plotly.tools.PlotlyDisplay object>"
      ]
     },
     "execution_count": 33,
     "metadata": {},
     "output_type": "execute_result"
    }
   ],
   "source": [
    "#pricing time series fluctuation by property Type\n",
    "dth = data[data.Type == 'h'].groupby([\"Date\"]).Price.mean()\n",
    "dth = dth.reset_index()\n",
    "dtu = data[data.Type == 'u'].groupby([\"Date\"]).Price.mean()\n",
    "dtu = dtu.reset_index()\n",
    "dtt = data[data.Type == 't'].groupby([\"Date\"]).Price.mean()\n",
    "dtt = dtt.reset_index()\n",
    "\n",
    "plh = go.Scatter(x = dth.Date, y=dth.Price, mode=\"lines+markers\", name='House', line= dict(color = ('rgb(215,075,124)'), width=4))\n",
    "plu = go.Scatter(x = dtu.Date, y=dtu.Price, mode=\"lines\", name='Unit', line= dict(color = ('rgb(169,200,088)'), width=2)) \n",
    "plt = go.Scatter(x = dtt.Date, y=dtt.Price, mode=\"lines\", name='Terrace', line= dict(color = ('rgb(200,100,019)'), width=2)) \n",
    "\n",
    "dt3 = [plh, plu, plt]\n",
    "layout3 = go.Layout(title='Min/Max/Avg Melbourne Housing Prices by Property Type',\n",
    "                   xaxis=dict(title='Date Sold',titlefont=dict(family='Courier New, monospace',size=16, color='#7f7f7f')),\n",
    "                   yaxis=dict(title='Price',titlefont=dict(family='Courier New, monospace',size=16,color='#7f7f7f'))\n",
    "                 )\n",
    "\n",
    "fig3 = go.Figure(data=dt3, layout=layout3)\n",
    "py.iplot(fig3, sharing='public')"
   ]
  },
  {
   "cell_type": "code",
   "execution_count": 34,
   "metadata": {},
   "outputs": [
    {
     "data": {
      "text/plain": [
       "9        1\n",
       "12       1\n",
       "10       3\n",
       "8        8\n",
       "7        8\n",
       "6       62\n",
       "5      557\n",
       "1      726\n",
       "4     2479\n",
       "2     3945\n",
       "3     5735\n",
       "Name: Rooms, dtype: int64"
      ]
     },
     "execution_count": 34,
     "metadata": {},
     "output_type": "execute_result"
    }
   ],
   "source": [
    "data.Rooms.value_counts(ascending=True)"
   ]
  },
  {
   "cell_type": "code",
   "execution_count": 36,
   "metadata": {},
   "outputs": [
    {
     "data": {
      "text/html": [
       "<iframe id=\"igraph\" scrolling=\"no\" style=\"border:none;\" seamless=\"seamless\" src=\"https://plot.ly/~nivla/62.embed\" height=\"525px\" width=\"100%\"></iframe>"
      ],
      "text/plain": [
       "<plotly.tools.PlotlyDisplay object>"
      ]
     },
     "execution_count": 36,
     "metadata": {},
     "output_type": "execute_result"
    }
   ],
   "source": [
    "#pricing time series fluctuation by property Type\n",
    "dr1 = data[data.Rooms == 1].groupby([\"Date\"]).Price.mean()\n",
    "dr1 = dr1.reset_index()\n",
    "dr2 = data[data.Rooms == 2].groupby([\"Date\"]).Price.mean()\n",
    "dr2 = dr2.reset_index()\n",
    "dr3 = data[data.Rooms == 3].groupby([\"Date\"]).Price.mean()\n",
    "dr3 = dr3.reset_index()\n",
    "dr4 = data[data.Rooms == 4].groupby([\"Date\"]).Price.mean()\n",
    "dr4 = dr4.reset_index()\n",
    "\n",
    "pr1 = go.Scatter(x = dr1.Date, y=dr1.Price, mode=\"lines\", name='1BR', line= dict(color = ('rgb(120,120,0)'), width=2))\n",
    "pr2 = go.Scatter(x = dr2.Date, y=dr2.Price, mode=\"lines\", name='2BR', line= dict(color = ('rgb(199,199,0)'), width=2)) \n",
    "pr3 = go.Scatter(x = dr3.Date, y=dr3.Price, mode=\"lines\", name='3BR', line= dict(color = ('rgb(010,010,019)'), width=2)) \n",
    "pr4 = go.Scatter(x = dr4.Date, y=dr4.Price, mode=\"lines\", name='4BR', line= dict(color = ('rgb(200,100,019)'), width=2)) \n",
    "\n",
    "dt4 = [pr1, pr2, pr3, pr4]\n",
    "layout4 = go.Layout(title='Average Price sold by BR',\n",
    "                   xaxis=dict(title='Date Sold',titlefont=dict(family='Courier New, monospace',size=16, color='#7f7f7f')),\n",
    "                   yaxis=dict(title='Price',titlefont=dict(family='Courier New, monospace',size=16,color='#7f7f7f'))\n",
    "                 )\n",
    "\n",
    "fig4 = go.Figure(data=dt4, layout=layout4)\n",
    "py.iplot(fig4, sharing='public')"
   ]
  },
  {
   "cell_type": "code",
   "execution_count": 37,
   "metadata": {},
   "outputs": [
    {
     "data": {
      "text/html": [
       "<iframe id=\"igraph\" scrolling=\"no\" style=\"border:none;\" seamless=\"seamless\" src=\"https://plot.ly/~nivla/64.embed\" height=\"525px\" width=\"100%\"></iframe>"
      ],
      "text/plain": [
       "<plotly.tools.PlotlyDisplay object>"
      ]
     },
     "execution_count": 37,
     "metadata": {},
     "output_type": "execute_result"
    }
   ],
   "source": [
    "#AVG/MAX/MIN Sale PRice\n",
    "dt51 = data.groupby([\"Date\"]).Price.mean()\n",
    "dt51 = dt51.reset_index()\n",
    "dt52 = data.groupby([\"Date\"]).Price.max()\n",
    "dt52 = dt52.reset_index()\n",
    "dt53 = data.groupby([\"Date\"]).Price.min()\n",
    "dt53 = dt53.reset_index()\n",
    "\n",
    "pl51 = go.Scatter(x = dt51.Date, y=dt51.Price, mode=\"lines+markers\", name='Avg', line= dict(color = ('rgb(255,165,0)'), width=4))\n",
    "pl52 = go.Scatter(x = dt52.Date, y=dt52.Price, mode=\"lines\", name='Max', line= dict(color = ('rgb(192,192,192)'), width=2)) \n",
    "pl53 = go.Scatter(x = dt53.Date, y=dt53.Price, mode=\"lines\", name='Min', line= dict(color = ('rgb(192,192,192)'), width=2)) \n",
    "\n",
    "dt5 = [pl51, pl52, pl53]\n",
    "layout5 = go.Layout(title='Min/Max/Avg Melbourne Housing Prices',\n",
    "                   xaxis=dict(title='Date Sold',titlefont=dict(family='Courier New, monospace',size=16, color='#7f7f7f')),\n",
    "                   yaxis=dict(title='Price',titlefont=dict(family='Courier New, monospace',size=16,color='#7f7f7f'))\n",
    "                 )\n",
    "\n",
    "fig5 = go.Figure(data=dt5, layout=layout5)\n",
    "py.iplot(fig5, sharing='public')"
   ]
  },
  {
   "cell_type": "code",
   "execution_count": 38,
   "metadata": {},
   "outputs": [
    {
     "data": {
      "text/html": [
       "<iframe id=\"igraph\" scrolling=\"no\" style=\"border:none;\" seamless=\"seamless\" src=\"https://plot.ly/~nivla/66.embed\" height=\"525px\" width=\"100%\"></iframe>"
      ],
      "text/plain": [
       "<plotly.tools.PlotlyDisplay object>"
      ]
     },
     "execution_count": 38,
     "metadata": {},
     "output_type": "execute_result"
    }
   ],
   "source": [
    "#distance and price correlation\n",
    "#Filtering the data to only include entries with the YearBuilt field populated\n",
    "data6 = data[data['YearBuilt']>0]\n",
    "#First, plotting the entries based on the distance from the city center\n",
    "pl6 = go.Scatter(x = data6.Distance, \n",
    "                 y = data6.Price, \n",
    "                 mode='markers',\n",
    "                marker = dict(color = data6.Distance, colorscale='Jet', reversescale=True, showscale=True)\n",
    "                )\n",
    "layout6 = go.Layout(title='Scatter Plot of Property Price by Distance from Melbourne CBD',\n",
    "                   xaxis=dict(title='Distance',titlefont=dict(family='Courier New, monospace',size=16, color='#7f7f7f')),\n",
    "                   yaxis=dict(title='Price',titlefont=dict(family='Courier New, monospace',size=16,color='#7f7f7f'))\n",
    "                 )\n",
    "fig6 = go.Figure(data=[pl6], layout=layout6)\n",
    "py.iplot(fig6, sharing='public')"
   ]
  },
  {
   "cell_type": "code",
   "execution_count": 23,
   "metadata": {},
   "outputs": [
    {
     "data": {
      "text/html": [
       "<iframe id=\"igraph\" scrolling=\"no\" style=\"border:none;\" seamless=\"seamless\" src=\"https://plot.ly/~nivla/52.embed\" height=\"525px\" width=\"100%\"></iframe>"
      ],
      "text/plain": [
       "<plotly.tools.PlotlyDisplay object>"
      ]
     },
     "execution_count": 23,
     "metadata": {},
     "output_type": "execute_result"
    }
   ],
   "source": [
    "#plotting the entries based on the distance from the city center\n",
    "pl7 = go.Scatter(x = data6.Longtitude, \n",
    "                 y = data6.Lattitude, \n",
    "                 mode='markers',\n",
    "                marker = dict(color = data6.Distance, colorscale='Jet', reversescale=True, showscale=True)\n",
    "                )\n",
    "layout7 = go.Layout(title='Properties Sold Showing Distance from Melbourne CBD',\n",
    "                   xaxis=dict(title='Longitude',titlefont=dict(family='Courier New, monospace',size=16, color='#7f7f7f')),\n",
    "                   yaxis=dict(title='Latitude',titlefont=dict(family='Courier New, monospace',size=16,color='#7f7f7f'))\n",
    "                 )\n",
    "fig7 = go.Figure(data=[pl7], layout=layout7)\n",
    "py.iplot(fig7, filename='privacy-public', sharing='public')"
   ]
  },
  {
   "cell_type": "code",
   "execution_count": null,
   "metadata": {
    "collapsed": true
   },
   "outputs": [],
   "source": []
  }
 ],
 "metadata": {
  "kernelspec": {
   "display_name": "Python 3",
   "language": "python",
   "name": "python3"
  },
  "language_info": {
   "codemirror_mode": {
    "name": "ipython",
    "version": 3
   },
   "file_extension": ".py",
   "mimetype": "text/x-python",
   "name": "python",
   "nbconvert_exporter": "python",
   "pygments_lexer": "ipython3",
   "version": "3.6.1"
  }
 },
 "nbformat": 4,
 "nbformat_minor": 2
}
