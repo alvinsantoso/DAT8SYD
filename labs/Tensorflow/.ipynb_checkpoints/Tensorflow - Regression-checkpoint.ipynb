{
 "cells": [
  {
   "cell_type": "code",
   "execution_count": 11,
   "metadata": {
    "collapsed": true
   },
   "outputs": [],
   "source": [
    "#using Boston dataset trying to predict Median HousePrice based on the historical dataset (Deep Neural Network)\n",
    "\"\"\"Example of DNNRegressor for Housing dataset.\"\"\"\n",
    "\n",
    "from __future__ import absolute_import\n",
    "from __future__ import division\n",
    "from __future__ import print_function\n",
    "\n",
    "import numpy as np\n",
    "from sklearn import datasets\n",
    "from sklearn import metrics\n",
    "from sklearn import model_selection\n",
    "from sklearn import preprocessing\n",
    "\n",
    "import tensorflow as tf"
   ]
  },
  {
   "cell_type": "code",
   "execution_count": 13,
   "metadata": {},
   "outputs": [
    {
     "name": "stdout",
     "output_type": "stream",
     "text": [
      "{'data': array([[  6.32000000e-03,   1.80000000e+01,   2.31000000e+00, ...,\n",
      "          1.53000000e+01,   3.96900000e+02,   4.98000000e+00],\n",
      "       [  2.73100000e-02,   0.00000000e+00,   7.07000000e+00, ...,\n",
      "          1.78000000e+01,   3.96900000e+02,   9.14000000e+00],\n",
      "       [  2.72900000e-02,   0.00000000e+00,   7.07000000e+00, ...,\n",
      "          1.78000000e+01,   3.92830000e+02,   4.03000000e+00],\n",
      "       ..., \n",
      "       [  6.07600000e-02,   0.00000000e+00,   1.19300000e+01, ...,\n",
      "          2.10000000e+01,   3.96900000e+02,   5.64000000e+00],\n",
      "       [  1.09590000e-01,   0.00000000e+00,   1.19300000e+01, ...,\n",
      "          2.10000000e+01,   3.93450000e+02,   6.48000000e+00],\n",
      "       [  4.74100000e-02,   0.00000000e+00,   1.19300000e+01, ...,\n",
      "          2.10000000e+01,   3.96900000e+02,   7.88000000e+00]]), 'target': array([ 24. ,  21.6,  34.7,  33.4,  36.2,  28.7,  22.9,  27.1,  16.5,\n",
      "        18.9,  15. ,  18.9,  21.7,  20.4,  18.2,  19.9,  23.1,  17.5,\n",
      "        20.2,  18.2,  13.6,  19.6,  15.2,  14.5,  15.6,  13.9,  16.6,\n",
      "        14.8,  18.4,  21. ,  12.7,  14.5,  13.2,  13.1,  13.5,  18.9,\n",
      "        20. ,  21. ,  24.7,  30.8,  34.9,  26.6,  25.3,  24.7,  21.2,\n",
      "        19.3,  20. ,  16.6,  14.4,  19.4,  19.7,  20.5,  25. ,  23.4,\n",
      "        18.9,  35.4,  24.7,  31.6,  23.3,  19.6,  18.7,  16. ,  22.2,\n",
      "        25. ,  33. ,  23.5,  19.4,  22. ,  17.4,  20.9,  24.2,  21.7,\n",
      "        22.8,  23.4,  24.1,  21.4,  20. ,  20.8,  21.2,  20.3,  28. ,\n",
      "        23.9,  24.8,  22.9,  23.9,  26.6,  22.5,  22.2,  23.6,  28.7,\n",
      "        22.6,  22. ,  22.9,  25. ,  20.6,  28.4,  21.4,  38.7,  43.8,\n",
      "        33.2,  27.5,  26.5,  18.6,  19.3,  20.1,  19.5,  19.5,  20.4,\n",
      "        19.8,  19.4,  21.7,  22.8,  18.8,  18.7,  18.5,  18.3,  21.2,\n",
      "        19.2,  20.4,  19.3,  22. ,  20.3,  20.5,  17.3,  18.8,  21.4,\n",
      "        15.7,  16.2,  18. ,  14.3,  19.2,  19.6,  23. ,  18.4,  15.6,\n",
      "        18.1,  17.4,  17.1,  13.3,  17.8,  14. ,  14.4,  13.4,  15.6,\n",
      "        11.8,  13.8,  15.6,  14.6,  17.8,  15.4,  21.5,  19.6,  15.3,\n",
      "        19.4,  17. ,  15.6,  13.1,  41.3,  24.3,  23.3,  27. ,  50. ,\n",
      "        50. ,  50. ,  22.7,  25. ,  50. ,  23.8,  23.8,  22.3,  17.4,\n",
      "        19.1,  23.1,  23.6,  22.6,  29.4,  23.2,  24.6,  29.9,  37.2,\n",
      "        39.8,  36.2,  37.9,  32.5,  26.4,  29.6,  50. ,  32. ,  29.8,\n",
      "        34.9,  37. ,  30.5,  36.4,  31.1,  29.1,  50. ,  33.3,  30.3,\n",
      "        34.6,  34.9,  32.9,  24.1,  42.3,  48.5,  50. ,  22.6,  24.4,\n",
      "        22.5,  24.4,  20. ,  21.7,  19.3,  22.4,  28.1,  23.7,  25. ,\n",
      "        23.3,  28.7,  21.5,  23. ,  26.7,  21.7,  27.5,  30.1,  44.8,\n",
      "        50. ,  37.6,  31.6,  46.7,  31.5,  24.3,  31.7,  41.7,  48.3,\n",
      "        29. ,  24. ,  25.1,  31.5,  23.7,  23.3,  22. ,  20.1,  22.2,\n",
      "        23.7,  17.6,  18.5,  24.3,  20.5,  24.5,  26.2,  24.4,  24.8,\n",
      "        29.6,  42.8,  21.9,  20.9,  44. ,  50. ,  36. ,  30.1,  33.8,\n",
      "        43.1,  48.8,  31. ,  36.5,  22.8,  30.7,  50. ,  43.5,  20.7,\n",
      "        21.1,  25.2,  24.4,  35.2,  32.4,  32. ,  33.2,  33.1,  29.1,\n",
      "        35.1,  45.4,  35.4,  46. ,  50. ,  32.2,  22. ,  20.1,  23.2,\n",
      "        22.3,  24.8,  28.5,  37.3,  27.9,  23.9,  21.7,  28.6,  27.1,\n",
      "        20.3,  22.5,  29. ,  24.8,  22. ,  26.4,  33.1,  36.1,  28.4,\n",
      "        33.4,  28.2,  22.8,  20.3,  16.1,  22.1,  19.4,  21.6,  23.8,\n",
      "        16.2,  17.8,  19.8,  23.1,  21. ,  23.8,  23.1,  20.4,  18.5,\n",
      "        25. ,  24.6,  23. ,  22.2,  19.3,  22.6,  19.8,  17.1,  19.4,\n",
      "        22.2,  20.7,  21.1,  19.5,  18.5,  20.6,  19. ,  18.7,  32.7,\n",
      "        16.5,  23.9,  31.2,  17.5,  17.2,  23.1,  24.5,  26.6,  22.9,\n",
      "        24.1,  18.6,  30.1,  18.2,  20.6,  17.8,  21.7,  22.7,  22.6,\n",
      "        25. ,  19.9,  20.8,  16.8,  21.9,  27.5,  21.9,  23.1,  50. ,\n",
      "        50. ,  50. ,  50. ,  50. ,  13.8,  13.8,  15. ,  13.9,  13.3,\n",
      "        13.1,  10.2,  10.4,  10.9,  11.3,  12.3,   8.8,   7.2,  10.5,\n",
      "         7.4,  10.2,  11.5,  15.1,  23.2,   9.7,  13.8,  12.7,  13.1,\n",
      "        12.5,   8.5,   5. ,   6.3,   5.6,   7.2,  12.1,   8.3,   8.5,\n",
      "         5. ,  11.9,  27.9,  17.2,  27.5,  15. ,  17.2,  17.9,  16.3,\n",
      "         7. ,   7.2,   7.5,  10.4,   8.8,   8.4,  16.7,  14.2,  20.8,\n",
      "        13.4,  11.7,   8.3,  10.2,  10.9,  11. ,   9.5,  14.5,  14.1,\n",
      "        16.1,  14.3,  11.7,  13.4,   9.6,   8.7,   8.4,  12.8,  10.5,\n",
      "        17.1,  18.4,  15.4,  10.8,  11.8,  14.9,  12.6,  14.1,  13. ,\n",
      "        13.4,  15.2,  16.1,  17.8,  14.9,  14.1,  12.7,  13.5,  14.9,\n",
      "        20. ,  16.4,  17.7,  19.5,  20.2,  21.4,  19.9,  19. ,  19.1,\n",
      "        19.1,  20.1,  19.9,  19.6,  23.2,  29.8,  13.8,  13.3,  16.7,\n",
      "        12. ,  14.6,  21.4,  23. ,  23.7,  25. ,  21.8,  20.6,  21.2,\n",
      "        19.1,  20.6,  15.2,   7. ,   8.1,  13.6,  20.1,  21.8,  24.5,\n",
      "        23.1,  19.7,  18.3,  21.2,  17.5,  16.8,  22.4,  20.6,  23.9,\n",
      "        22. ,  11.9]), 'feature_names': array(['CRIM', 'ZN', 'INDUS', 'CHAS', 'NOX', 'RM', 'AGE', 'DIS', 'RAD',\n",
      "       'TAX', 'PTRATIO', 'B', 'LSTAT'], \n",
      "      dtype='<U7'), 'DESCR': \"Boston House Prices dataset\\n===========================\\n\\nNotes\\n------\\nData Set Characteristics:  \\n\\n    :Number of Instances: 506 \\n\\n    :Number of Attributes: 13 numeric/categorical predictive\\n    \\n    :Median Value (attribute 14) is usually the target\\n\\n    :Attribute Information (in order):\\n        - CRIM     per capita crime rate by town\\n        - ZN       proportion of residential land zoned for lots over 25,000 sq.ft.\\n        - INDUS    proportion of non-retail business acres per town\\n        - CHAS     Charles River dummy variable (= 1 if tract bounds river; 0 otherwise)\\n        - NOX      nitric oxides concentration (parts per 10 million)\\n        - RM       average number of rooms per dwelling\\n        - AGE      proportion of owner-occupied units built prior to 1940\\n        - DIS      weighted distances to five Boston employment centres\\n        - RAD      index of accessibility to radial highways\\n        - TAX      full-value property-tax rate per $10,000\\n        - PTRATIO  pupil-teacher ratio by town\\n        - B        1000(Bk - 0.63)^2 where Bk is the proportion of blacks by town\\n        - LSTAT    % lower status of the population\\n        - MEDV     Median value of owner-occupied homes in $1000's\\n\\n    :Missing Attribute Values: None\\n\\n    :Creator: Harrison, D. and Rubinfeld, D.L.\\n\\nThis is a copy of UCI ML housing dataset.\\nhttp://archive.ics.uci.edu/ml/datasets/Housing\\n\\n\\nThis dataset was taken from the StatLib library which is maintained at Carnegie Mellon University.\\n\\nThe Boston house-price data of Harrison, D. and Rubinfeld, D.L. 'Hedonic\\nprices and the demand for clean air', J. Environ. Economics & Management,\\nvol.5, 81-102, 1978.   Used in Belsley, Kuh & Welsch, 'Regression diagnostics\\n...', Wiley, 1980.   N.B. Various transformations are used in the table on\\npages 244-261 of the latter.\\n\\nThe Boston house-price data has been used in many machine learning papers that address regression\\nproblems.   \\n     \\n**References**\\n\\n   - Belsley, Kuh & Welsch, 'Regression diagnostics: Identifying Influential Data and Sources of Collinearity', Wiley, 1980. 244-261.\\n   - Quinlan,R. (1993). Combining Instance-Based and Model-Based Learning. In Proceedings on the Tenth International Conference of Machine Learning, 236-243, University of Massachusetts, Amherst. Morgan Kaufmann.\\n   - many more! (see http://archive.ics.uci.edu/ml/datasets/Housing)\\n\"}\n"
     ]
    }
   ],
   "source": [
    " # Load dataset\n",
    "boston = datasets.load_boston()\n",
    "x, y = boston.data, boston.target\n",
    "print (boston)"
   ]
  },
  {
   "cell_type": "code",
   "execution_count": 14,
   "metadata": {
    "collapsed": true
   },
   "outputs": [],
   "source": [
    "# Split dataset into train / test with 20% value for Test data\n",
    "x_train, x_test, y_train, y_test = model_selection.train_test_split(\n",
    "x, y, test_size=0.2, random_state=42)"
   ]
  },
  {
   "cell_type": "code",
   "execution_count": 15,
   "metadata": {
    "collapsed": true
   },
   "outputs": [],
   "source": [
    " # Scale data (training set) to 0 mean and unit standard deviation.\n",
    "scaler = preprocessing.StandardScaler()\n",
    "x_train = scaler.fit_transform(x_train)"
   ]
  },
  {
   "cell_type": "code",
   "execution_count": 17,
   "metadata": {},
   "outputs": [
    {
     "name": "stdout",
     "output_type": "stream",
     "text": [
      "INFO:tensorflow:Using default config.\n",
      "WARNING:tensorflow:Using temporary folder as model directory: /var/folders/rq/1hjcqxd13fs2tmyqjl1519nr0000gn/T/tmp2gbyqgfq\n",
      "INFO:tensorflow:Using config: {'_task_type': None, '_task_id': 0, '_cluster_spec': <tensorflow.python.training.server_lib.ClusterSpec object at 0x1236ff828>, '_master': '', '_num_ps_replicas': 0, '_num_worker_replicas': 0, '_environment': 'local', '_is_chief': True, '_evaluation_master': '', '_tf_config': gpu_options {\n",
      "  per_process_gpu_memory_fraction: 1\n",
      "}\n",
      ", '_tf_random_seed': None, '_save_summary_steps': 100, '_save_checkpoints_secs': 600, '_session_config': None, '_save_checkpoints_steps': None, '_keep_checkpoint_max': 5, '_keep_checkpoint_every_n_hours': 10000, '_model_dir': '/var/folders/rq/1hjcqxd13fs2tmyqjl1519nr0000gn/T/tmp2gbyqgfq'}\n"
     ]
    }
   ],
   "source": [
    "#Build 2 layer fully connected DNN with 10, 10 units respectively.\n",
    "#Instantiate a DNNRegressor for the neural network regression model. \n",
    "#We need to provide two arguments here: \n",
    "#Hidden_units, a hyperparameter specifying the number of nodes in each hidden layer (here, two hidden layers with 10 nodes each), and feature_columns\n",
    "feature_columns = [\n",
    "      tf.feature_column.numeric_column('x', shape=np.array(x_train).shape[1:])]\n",
    "regressor = tf.contrib.learn.DNNRegressor(\n",
    "      feature_columns=feature_columns, hidden_units=[10, 10])"
   ]
  },
  {
   "cell_type": "code",
   "execution_count": 23,
   "metadata": {},
   "outputs": [
    {
     "name": "stdout",
     "output_type": "stream",
     "text": [
      "WARNING:tensorflow:From /anaconda/lib/python3.6/site-packages/tensorflow/contrib/learn/python/learn/estimators/head.py:625: scalar_summary (from tensorflow.python.ops.logging_ops) is deprecated and will be removed after 2016-11-30.\n",
      "Instructions for updating:\n",
      "Please switch to tf.summary.scalar. Note that tf.summary.scalar uses the node name instead of the tag. This means that TensorFlow will automatically de-duplicate summary names based on the scope they are created in. Also, passing a tensor or list of tags to a scalar summary op is no longer supported.\n",
      "INFO:tensorflow:Create CheckpointSaverHook.\n",
      "INFO:tensorflow:Restoring parameters from /var/folders/rq/1hjcqxd13fs2tmyqjl1519nr0000gn/T/tmp2gbyqgfq/model.ckpt-4000\n",
      "INFO:tensorflow:Saving checkpoints for 4001 into /var/folders/rq/1hjcqxd13fs2tmyqjl1519nr0000gn/T/tmp2gbyqgfq/model.ckpt.\n",
      "INFO:tensorflow:loss = 4.49797, step = 4001\n",
      "INFO:tensorflow:global_step/sec: 520.224\n",
      "INFO:tensorflow:loss = 31.7864, step = 4101 (0.197 sec)\n",
      "INFO:tensorflow:global_step/sec: 580.994\n",
      "INFO:tensorflow:loss = 0.705478, step = 4201 (0.170 sec)\n",
      "INFO:tensorflow:global_step/sec: 611.763\n",
      "INFO:tensorflow:loss = 18.6401, step = 4301 (0.164 sec)\n",
      "INFO:tensorflow:global_step/sec: 661.196\n",
      "INFO:tensorflow:loss = 8.82425, step = 4401 (0.151 sec)\n",
      "INFO:tensorflow:global_step/sec: 554.32\n",
      "INFO:tensorflow:loss = 43.9052, step = 4501 (0.181 sec)\n",
      "INFO:tensorflow:global_step/sec: 559.603\n",
      "INFO:tensorflow:loss = 2.08177, step = 4601 (0.179 sec)\n",
      "INFO:tensorflow:global_step/sec: 596.36\n",
      "INFO:tensorflow:loss = 0.529485, step = 4701 (0.167 sec)\n",
      "INFO:tensorflow:global_step/sec: 668.905\n",
      "INFO:tensorflow:loss = 4.80433, step = 4801 (0.150 sec)\n",
      "INFO:tensorflow:global_step/sec: 561.725\n",
      "INFO:tensorflow:loss = 20.5705, step = 4901 (0.178 sec)\n",
      "INFO:tensorflow:global_step/sec: 603.865\n",
      "INFO:tensorflow:loss = 8.27531, step = 5001 (0.167 sec)\n",
      "INFO:tensorflow:global_step/sec: 669.837\n",
      "INFO:tensorflow:loss = 0.0841857, step = 5101 (0.149 sec)\n",
      "INFO:tensorflow:global_step/sec: 506.667\n",
      "INFO:tensorflow:loss = 3.32425, step = 5201 (0.196 sec)\n",
      "INFO:tensorflow:global_step/sec: 560.344\n",
      "INFO:tensorflow:loss = 0.0168586, step = 5301 (0.179 sec)\n",
      "INFO:tensorflow:global_step/sec: 595.153\n",
      "INFO:tensorflow:loss = 2.84861, step = 5401 (0.169 sec)\n",
      "INFO:tensorflow:global_step/sec: 556.207\n",
      "INFO:tensorflow:loss = 9.90974, step = 5501 (0.179 sec)\n",
      "INFO:tensorflow:global_step/sec: 564.261\n",
      "INFO:tensorflow:loss = 1.05309, step = 5601 (0.175 sec)\n",
      "INFO:tensorflow:global_step/sec: 618.376\n",
      "INFO:tensorflow:loss = 3.59627, step = 5701 (0.162 sec)\n",
      "INFO:tensorflow:global_step/sec: 601.923\n",
      "INFO:tensorflow:loss = 3.03271, step = 5801 (0.165 sec)\n",
      "INFO:tensorflow:global_step/sec: 566.264\n",
      "INFO:tensorflow:loss = 4.68097, step = 5901 (0.178 sec)\n",
      "INFO:tensorflow:Saving checkpoints for 6000 into /var/folders/rq/1hjcqxd13fs2tmyqjl1519nr0000gn/T/tmp2gbyqgfq/model.ckpt.\n",
      "INFO:tensorflow:Loss for final step: 0.19774.\n"
     ]
    },
    {
     "data": {
      "text/plain": [
       "DNNRegressor(params={'head': <tensorflow.contrib.learn.python.learn.estimators.head._RegressionHead object at 0x1236ff438>, 'hidden_units': [10, 10], 'feature_columns': (_NumericColumn(key='x', shape=(13,), default_value=None, dtype=tf.float32, normalizer_fn=None),), 'optimizer': None, 'activation_fn': <function relu at 0x11da252f0>, 'dropout': None, 'gradient_clip_norm': None, 'embedding_lr_multipliers': None, 'input_layer_min_slice_size': None})"
      ]
     },
     "execution_count": 23,
     "metadata": {},
     "output_type": "execute_result"
    }
   ],
   "source": [
    "# Train the dataset\n",
    "train_input_fn = tf.estimator.inputs.numpy_input_fn(\n",
    "x={'x': x_train}, y=y_train, batch_size=1, num_epochs=None, shuffle=True)\n",
    "regressor.fit(input_fn=train_input_fn, steps=2000)"
   ]
  },
  {
   "cell_type": "code",
   "execution_count": 37,
   "metadata": {},
   "outputs": [
    {
     "name": "stdout",
     "output_type": "stream",
     "text": [
      "INFO:tensorflow:Restoring parameters from /var/folders/rq/1hjcqxd13fs2tmyqjl1519nr0000gn/T/tmp2gbyqgfq/model.ckpt-6000\n"
     ]
    },
    {
     "data": {
      "text/plain": [
       "array([ 27.80618858,  34.20752335,  20.41694641,  25.93001556,\n",
       "        15.29337311,  22.03650665,  16.252985  ,  15.27691078,\n",
       "        24.40045357,  17.16414452,  23.61527443,  15.54369068,\n",
       "         6.432477  ,  21.20502472,  17.19646263,  23.93902016,\n",
       "        19.87753677,   9.95497894,  43.80751801,  14.52507877,\n",
       "        26.15571976,  27.19055176,  14.79854584,  22.10174561,\n",
       "        17.02368927,  18.23797417,  22.19646454,  11.8755827 ,\n",
       "        20.21585655,  15.31682587,  19.45233536,  24.47132111,\n",
       "        20.62677765,  24.27919006,  13.88364601,  13.81306362,\n",
       "        31.89896011,  19.61320877,  21.43382835,  25.51431847,\n",
       "        13.46199894,  29.98195648,  46.14339066,  18.2316227 ,\n",
       "        26.81860924,  17.33226204,  14.15643501,  27.26368904,\n",
       "        18.50008202,  28.50092888,  15.79076958,  33.9570694 ,\n",
       "        15.83576679,  26.71860313,  42.18569565,  23.83974266,\n",
       "        16.22821236,  31.81526184,  25.55669975,  16.19718933,\n",
       "        23.67896271,  32.80801392,  31.30620766,  12.36143303,\n",
       "        24.08895683,  14.5739193 ,  15.41312027,  25.00622749,\n",
       "        29.2951889 ,  13.30257225,  20.65281487,  30.3910408 ,\n",
       "        10.90168571,  23.52849388,  22.76416779,   6.3823452 ,\n",
       "        20.9839592 ,  44.26309204,  10.77011204,  16.04427528,\n",
       "        21.76678848,  11.99356174,  21.84496689,  11.49538994,\n",
       "        19.96004105,  28.69587517,  14.24690914,  25.07964325,\n",
       "        24.23397827,  19.57088089,  24.00768471,   9.42906189,\n",
       "        18.60667992,  17.94488335,  32.180233  ,  19.37732315,\n",
       "        26.54459572,  10.69367981,  11.87797737,  11.77044296,\n",
       "        22.65380096,  23.73031998], dtype=float32)"
      ]
     },
     "execution_count": 37,
     "metadata": {},
     "output_type": "execute_result"
    }
   ],
   "source": [
    "# Predict.\n",
    "x_transformed = scaler.transform(x_test)\n",
    "test_input_fn = tf.estimator.inputs.numpy_input_fn(\n",
    "x={'x': x_transformed}, y=y_test, num_epochs=1, shuffle=False)\n",
    "predictions = regressor.predict_scores(input_fn=test_input_fn)\n",
    "y_predicted = np.array(list(p for p in predictions))\n",
    "y_predicted = y_predicted.reshape(np.array(y_test).shape)\n",
    "y_predicted"
   ]
  },
  {
   "cell_type": "code",
   "execution_count": 35,
   "metadata": {},
   "outputs": [
    {
     "name": "stdout",
     "output_type": "stream",
     "text": [
      "MSE (sklearn): 15.177730\n",
      "WARNING:tensorflow:From /anaconda/lib/python3.6/site-packages/tensorflow/contrib/learn/python/learn/estimators/head.py:625: scalar_summary (from tensorflow.python.ops.logging_ops) is deprecated and will be removed after 2016-11-30.\n",
      "Instructions for updating:\n",
      "Please switch to tf.summary.scalar. Note that tf.summary.scalar uses the node name instead of the tag. This means that TensorFlow will automatically de-duplicate summary names based on the scope they are created in. Also, passing a tensor or list of tags to a scalar summary op is no longer supported.\n",
      "INFO:tensorflow:Starting evaluation at 2017-07-08-07:14:14\n",
      "INFO:tensorflow:Restoring parameters from /var/folders/rq/1hjcqxd13fs2tmyqjl1519nr0000gn/T/tmp2gbyqgfq/model.ckpt-6000\n",
      "INFO:tensorflow:Finished evaluation at 2017-07-08-07:14:14\n",
      "INFO:tensorflow:Saving dict for global step 6000: global_step = 6000, loss = 15.1777\n",
      "MSE (tensorflow): 15.177732\n"
     ]
    }
   ],
   "source": [
    "# Score the accuracy with sklearn.\n",
    "score_sklearn = metrics.mean_squared_error(y_predicted, y_test)\n",
    "print('MSE (sklearn): {0:f}'.format(score_sklearn))\n",
    "\n",
    "# Score the accuracy with tensorflow.\n",
    "scores = regressor.evaluate(input_fn=test_input_fn)\n",
    "loss_score = scores[\"loss\"]\n",
    "print('MSE (tensorflow): {0:f}'.format(loss_score))"
   ]
  },
  {
   "cell_type": "code",
   "execution_count": 39,
   "metadata": {},
   "outputs": [
    {
     "name": "stdout",
     "output_type": "stream",
     "text": [
      "WARNING:tensorflow:From /anaconda/lib/python3.6/site-packages/tensorflow/python/util/deprecation.py:347: calling DNNRegressor.predict (from tensorflow.contrib.learn.python.learn.estimators.dnn) with outputs=None is deprecated and will be removed after 2017-03-01.\n",
      "Instructions for updating:\n",
      "Please switch to predict_scores, or set `outputs` argument.\n",
      "INFO:tensorflow:Restoring parameters from /var/folders/rq/1hjcqxd13fs2tmyqjl1519nr0000gn/T/tmp2gbyqgfq/model.ckpt-6000\n",
      "Predictions: [27.806189, 34.207523, 20.416946, 25.930016, 15.293373, 22.036507]\n"
     ]
    }
   ],
   "source": [
    "#another predictions\n",
    "y = regressor.predict(input_fn=test_input_fn)\n",
    "# .predict() returns an iterator; convert to a list and print predictions\n",
    "predictions = list(itertools.islice(y, 6))\n",
    "print (\"Predictions: {}\".format(str(predictions)))"
   ]
  }
 ],
 "metadata": {
  "kernelspec": {
   "display_name": "Python 3",
   "language": "python",
   "name": "python3"
  },
  "language_info": {
   "codemirror_mode": {
    "name": "ipython",
    "version": 3
   },
   "file_extension": ".py",
   "mimetype": "text/x-python",
   "name": "python",
   "nbconvert_exporter": "python",
   "pygments_lexer": "ipython3",
   "version": "3.6.1"
  }
 },
 "nbformat": 4,
 "nbformat_minor": 2
}
