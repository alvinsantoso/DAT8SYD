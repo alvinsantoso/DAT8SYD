{
 "cells": [
  {
   "cell_type": "code",
   "execution_count": 2,
   "metadata": {
    "collapsed": true
   },
   "outputs": [],
   "source": [
    "\"\"\"Example of DNNClassifier for Iris plant dataset.\"\"\"\n",
    "\n",
    "from __future__ import absolute_import\n",
    "from __future__ import division\n",
    "from __future__ import print_function"
   ]
  },
  {
   "cell_type": "code",
   "execution_count": 3,
   "metadata": {
    "collapsed": true
   },
   "outputs": [],
   "source": [
    "import numpy as np\n",
    "from sklearn import datasets\n",
    "from sklearn import metrics\n",
    "from sklearn import model_selection\n",
    "import tensorflow as tf"
   ]
  },
  {
   "cell_type": "code",
   "execution_count": 4,
   "metadata": {
    "collapsed": true
   },
   "outputs": [],
   "source": [
    "X_FEATURE = 'x'\n",
    "# Load dataset.\n",
    "iris = datasets.load_iris()\n",
    "x_train, x_test, y_train, y_test = model_selection.train_test_split(\n",
    "    iris.data, iris.target, test_size=0.2, random_state=42)"
   ]
  },
  {
   "cell_type": "code",
   "execution_count": 6,
   "metadata": {},
   "outputs": [
    {
     "name": "stdout",
     "output_type": "stream",
     "text": [
      "INFO:tensorflow:Using default config.\n",
      "WARNING:tensorflow:Using temporary folder as model directory: /var/folders/rq/1hjcqxd13fs2tmyqjl1519nr0000gn/T/tmpzpqlhokr\n",
      "INFO:tensorflow:Using config: {'_task_type': None, '_task_id': 0, '_cluster_spec': <tensorflow.python.training.server_lib.ClusterSpec object at 0x11dd3c400>, '_master': '', '_num_ps_replicas': 0, '_num_worker_replicas': 0, '_environment': 'local', '_is_chief': True, '_evaluation_master': '', '_tf_config': gpu_options {\n",
      "  per_process_gpu_memory_fraction: 1\n",
      "}\n",
      ", '_tf_random_seed': None, '_save_summary_steps': 100, '_save_checkpoints_secs': 600, '_session_config': None, '_save_checkpoints_steps': None, '_keep_checkpoint_max': 5, '_keep_checkpoint_every_n_hours': 10000, '_model_dir': '/var/folders/rq/1hjcqxd13fs2tmyqjl1519nr0000gn/T/tmpzpqlhokr'}\n"
     ]
    }
   ],
   "source": [
    "# Build 3 layer DNN with 10, 20, 10 units respectively.\n",
    "feature_columns = [tf.feature_column.numeric_column(\n",
    "          X_FEATURE, shape=np.array(x_train).shape[1:])]\n",
    "classifier = tf.contrib.learn.DNNClassifier(\n",
    "      feature_columns=feature_columns, hidden_units=[10, 20, 10], n_classes=3)"
   ]
  },
  {
   "cell_type": "code",
   "execution_count": 7,
   "metadata": {},
   "outputs": [
    {
     "name": "stdout",
     "output_type": "stream",
     "text": [
      "WARNING:tensorflow:From /anaconda/lib/python3.6/site-packages/tensorflow/contrib/learn/python/learn/estimators/head.py:625: scalar_summary (from tensorflow.python.ops.logging_ops) is deprecated and will be removed after 2016-11-30.\n",
      "Instructions for updating:\n",
      "Please switch to tf.summary.scalar. Note that tf.summary.scalar uses the node name instead of the tag. This means that TensorFlow will automatically de-duplicate summary names based on the scope they are created in. Also, passing a tensor or list of tags to a scalar summary op is no longer supported.\n",
      "INFO:tensorflow:Create CheckpointSaverHook.\n",
      "INFO:tensorflow:Saving checkpoints for 1 into /var/folders/rq/1hjcqxd13fs2tmyqjl1519nr0000gn/T/tmpzpqlhokr/model.ckpt.\n",
      "INFO:tensorflow:loss = 0.958363, step = 1\n",
      "INFO:tensorflow:global_step/sec: 465.747\n",
      "INFO:tensorflow:loss = 0.189814, step = 101 (0.218 sec)\n",
      "INFO:tensorflow:Saving checkpoints for 200 into /var/folders/rq/1hjcqxd13fs2tmyqjl1519nr0000gn/T/tmpzpqlhokr/model.ckpt.\n",
      "INFO:tensorflow:Loss for final step: 0.0645686.\n"
     ]
    }
   ],
   "source": [
    "# Train.\n",
    "train_input_fn = tf.estimator.inputs.numpy_input_fn(\n",
    "      x={X_FEATURE: x_train}, y=y_train, num_epochs=None, shuffle=True)\n",
    "train = classifier.fit(input_fn=train_input_fn, steps=200)"
   ]
  },
  {
   "cell_type": "code",
   "execution_count": 15,
   "metadata": {},
   "outputs": [
    {
     "name": "stdout",
     "output_type": "stream",
     "text": [
      "INFO:tensorflow:Restoring parameters from /var/folders/rq/1hjcqxd13fs2tmyqjl1519nr0000gn/T/tmpzpqlhokr/model.ckpt-200\n"
     ]
    }
   ],
   "source": [
    "  # Predict.\n",
    "test_input_fn = tf.estimator.inputs.numpy_input_fn(\n",
    "      x={X_FEATURE: x_test}, y=y_test, num_epochs=1, shuffle=False)\n",
    "predictions = classifier.predict_classes(input_fn=test_input_fn)\n",
    "y_predicted = np.array(list(p for p in predictions))\n",
    "y_predicted = y_predicted.reshape(np.array(y_test).shape)"
   ]
  },
  {
   "cell_type": "code",
   "execution_count": 16,
   "metadata": {},
   "outputs": [
    {
     "name": "stdout",
     "output_type": "stream",
     "text": [
      "Accuracy (sklearn): 0.966667\n"
     ]
    }
   ],
   "source": [
    "# Score with sklearn.\n",
    "score = metrics.accuracy_score(y_test, y_predicted)\n",
    "print('Accuracy (sklearn): {0:f}'.format(score))"
   ]
  },
  {
   "cell_type": "code",
   "execution_count": 9,
   "metadata": {},
   "outputs": [
    {
     "name": "stdout",
     "output_type": "stream",
     "text": [
      "WARNING:tensorflow:From /anaconda/lib/python3.6/site-packages/tensorflow/contrib/learn/python/learn/estimators/head.py:625: scalar_summary (from tensorflow.python.ops.logging_ops) is deprecated and will be removed after 2016-11-30.\n",
      "Instructions for updating:\n",
      "Please switch to tf.summary.scalar. Note that tf.summary.scalar uses the node name instead of the tag. This means that TensorFlow will automatically de-duplicate summary names based on the scope they are created in. Also, passing a tensor or list of tags to a scalar summary op is no longer supported.\n",
      "INFO:tensorflow:Starting evaluation at 2017-07-07-16:57:40\n",
      "INFO:tensorflow:Restoring parameters from /var/folders/rq/1hjcqxd13fs2tmyqjl1519nr0000gn/T/tmpzpqlhokr/model.ckpt-200\n",
      "INFO:tensorflow:Finished evaluation at 2017-07-07-16:57:41\n",
      "INFO:tensorflow:Saving dict for global step 200: accuracy = 0.966667, global_step = 200, loss = 0.0996766\n",
      "Accuracy (tensorflow): 0.966667\n"
     ]
    }
   ],
   "source": [
    "# Score with tensorflow.\n",
    "scores = classifier.evaluate(input_fn=test_input_fn)\n",
    "print('Accuracy (tensorflow): {0:f}'.format(scores['accuracy']))"
   ]
  },
  {
   "cell_type": "code",
   "execution_count": null,
   "metadata": {
    "collapsed": true
   },
   "outputs": [],
   "source": []
  }
 ],
 "metadata": {
  "kernelspec": {
   "display_name": "Python 3",
   "language": "python",
   "name": "python3"
  },
  "language_info": {
   "codemirror_mode": {
    "name": "ipython",
    "version": 3
   },
   "file_extension": ".py",
   "mimetype": "text/x-python",
   "name": "python",
   "nbconvert_exporter": "python",
   "pygments_lexer": "ipython3",
   "version": "3.6.1"
  }
 },
 "nbformat": 4,
 "nbformat_minor": 2
}
